{
 "cells": [
  {
   "cell_type": "code",
   "execution_count": 26,
   "metadata": {},
   "outputs": [],
   "source": [
    "import torch\n",
    "from transformers import *\n",
    "import json\n",
    "import numpy as np\n",
    "import pandas as pd\n",
    "\n",
    "from tqdm import tqdm\n",
    "from collections import defaultdict\n",
    "from datetime import datetime\n",
    "\n",
    "from sentence_transformers import SentenceTransformer, LoggingHandler"
   ]
  },
  {
   "cell_type": "code",
   "execution_count": 27,
   "metadata": {},
   "outputs": [],
   "source": [
    "def untokenized_reader(filename, typ='original'):\n",
    "    # return list of original / words / lemma / pos\n",
    "    with open(filename) as f:\n",
    "        data = json.load(f)\n",
    "    res = []\n",
    "    assert typ in ['original', 'words', 'lemma', 'pos'], 'typ should in [original, words, lemma, pos]'\n",
    "    \n",
    "    if typ == 'original':\n",
    "        for j in data:\n",
    "            res.append(j['headline'])\n",
    "    if typ == 'words':\n",
    "        for j in data:\n",
    "            res.append(j['words'])\n",
    "    if typ == 'lemma':\n",
    "        for j in data:\n",
    "            res.append(j['lemma'])\n",
    "    if typ == 'pos':\n",
    "        for j in data:\n",
    "            res.append(j['pos'])    \n",
    "    return res\n",
    "\n",
    "def padding(tokenized):\n",
    "    max_len = 0\n",
    "    for i in tokenized:\n",
    "        if len(i) > max_len:\n",
    "            max_len = len(i)\n",
    "    padded = np.array([i + [0]*(max_len-len(i)) for i in tokenized])\n",
    "    return padded\n",
    "\n",
    "def df_label(target):\n",
    "    num_cls = len(target)\n",
    "    df = pd.DataFrame(data=np.array(target[0]))\n",
    "    df[len(df.columns)] = 0\n",
    "    for label in range(1, num_cls):\n",
    "        df1 = pd.DataFrame(data=np.array(target[label]))\n",
    "        df1[len(df1.columns)] = label\n",
    "        df = pd.concat([df, df1])\n",
    "        \n",
    "    return df\n",
    "        \n",
    "        "
   ]
  },
  {
   "cell_type": "code",
   "execution_count": 28,
   "metadata": {},
   "outputs": [],
   "source": [
    "def transformer_embedding(target:list, choice:int):\n",
    "    MODELS = [(BertModel,       BertTokenizer,       'bert-base-uncased'),\n",
    "              (OpenAIGPTModel,  OpenAIGPTTokenizer,  'openai-gpt'),\n",
    "              (GPT2Model,       GPT2Tokenizer,       'gpt2'),\n",
    "              (CTRLModel,       CTRLTokenizer,       'ctrl'),\n",
    "              (TransfoXLModel,  TransfoXLTokenizer,  'transfo-xl-wt103'),\n",
    "              (XLNetModel,      XLNetTokenizer,      'xlnet-base-cased'),\n",
    "              (XLMModel,        XLMTokenizer,        'xlm-mlm-enfr-1024'),\n",
    "              (DistilBertModel, DistilBertTokenizer, 'distilbert-base-cased'),\n",
    "              (RobertaModel,    RobertaTokenizer,    'roberta-base'),\n",
    "              (XLMRobertaModel, XLMRobertaTokenizer, 'xlm-roberta-base'),\n",
    "             ]\n",
    "    \n",
    "    print(\"Processing %d sentence\"%len(target))\n",
    "    model_class, tokenizer_class, pretrained_weights = MODELS[choice]\n",
    "    \n",
    "    tokenizer = tokenizer_class.from_pretrained(pretrained_weights)\n",
    "    model = model_class.from_pretrained(pretrained_weights)\n",
    "    tokenized = [tokenizer.encode(x, add_special_tokens=True) for x in target]\n",
    "    \n",
    "    padded = padding(tokenized)\n",
    "    input_ids = torch.tensor(np.array(padded))\n",
    "    \n",
    "    with torch.no_grad():\n",
    "        last_hidden_states = model(input_ids)\n",
    "        #Slice the output for the first position for all the sequences, take all hidden unit outputs\n",
    "        embed = last_hidden_states[0][:,0,:].numpy()\n",
    "    return embed"
   ]
  },
  {
   "cell_type": "code",
   "execution_count": 29,
   "metadata": {},
   "outputs": [],
   "source": [
    "def sbert_embedding(model, sentences):\n",
    "    sentence_embeddings = model.encode(sentences)\n",
    "    return sentence_embeddings\n"
   ]
  },
  {
   "cell_type": "code",
   "execution_count": null,
   "metadata": {},
   "outputs": [],
   "source": []
  },
  {
   "cell_type": "code",
   "execution_count": 106,
   "metadata": {},
   "outputs": [],
   "source": [
    "# df_fox = pd.read_json('filtered_fox_headlines.json')\n",
    "# df_fox['source'] = 'fox'\n",
    "# df_msnbc = pd.read_json('filtered_msnbc_headlines.json')\n",
    "# df_msnbc['source'] = 'msnbc'\n",
    "\n",
    "# df = pd.concat([df_msnbc, df_fox])\n",
    "\n",
    "df = pd.read_json('headlines_lda_mallet.json')\n",
    "# source=df['source'].unique().tolist()\n",
    "# df_fox = df.loc[df.source=='fox']\n",
    "# df_msnbc = df.loc[df.source=='msnbc']"
   ]
  },
  {
   "cell_type": "code",
   "execution_count": null,
   "metadata": {},
   "outputs": [],
   "source": []
  },
  {
   "cell_type": "code",
   "execution_count": 107,
   "metadata": {},
   "outputs": [],
   "source": [
    "# word level bert\n",
    "# emb_fox = transformer_embedding(data_fox, 0)\n",
    "# emb_msnbc = transformer_embedding(data_msnbc, 0)\n",
    "\n",
    "# sen-bert\n",
    "model = SentenceTransformer('bert-large-nli-stsb-mean-tokens')\n",
    "# emb_fox = sbert_embedding(model, df_fox['headline'].tolist())\n",
    "# emb_msnbc = sbert_embedding(model, df_msnbc['headline'].tolist())\n",
    "emb_all = sbert_embedding(model, df['headline'].tolist())\n"
   ]
  },
  {
   "cell_type": "code",
   "execution_count": 108,
   "metadata": {},
   "outputs": [],
   "source": [
    "import pandas as pd\n",
    "import numpy as np\n",
    "import matplotlib.pyplot as plt\n",
    "import seaborn as sns\n",
    "from time import time\n",
    "%matplotlib inline\n"
   ]
  },
  {
   "cell_type": "code",
   "execution_count": 109,
   "metadata": {},
   "outputs": [],
   "source": [
    "# df_fox = df_label([emb_fox])\n",
    "# df_msnbc = df_label([emb_msnbc])"
   ]
  },
  {
   "cell_type": "code",
   "execution_count": 110,
   "metadata": {},
   "outputs": [],
   "source": [
    "# df_fox = df_fox.iloc[:, :-1]\n",
    "# df_msnbc = df_fox.iloc[:, :-1]"
   ]
  },
  {
   "cell_type": "code",
   "execution_count": 111,
   "metadata": {},
   "outputs": [],
   "source": [
    "# from sklearn.manifold import TSNE\n",
    "# tsne = TSNE(random_state=1, n_iter=300, metric=\"cosine\", perplexity=100)\n",
    "# embs_fox = tsne.fit_transform(df_fox)\n",
    "# embs_msnbc = tsne.fit_transform(df_msnbc)"
   ]
  },
  {
   "cell_type": "code",
   "execution_count": 112,
   "metadata": {},
   "outputs": [],
   "source": [
    "# df_tsne_fox = pd.DataFrame({'x' : [], 'y' : []})\n",
    "# df_tsne_fox['x'] = embs_fox[:, 0]\n",
    "# df_tsne_fox['y'] = embs_fox[:, 1]\n",
    "\n",
    "# df_tsne_msnbc = pd.DataFrame({'x' : [], 'y' : []})\n",
    "# df_tsne_msnbc['x'] = embs_msnbc[:, 0]\n",
    "# df_tsne_msnbc['y'] = embs_msnbc[:, 1]"
   ]
  },
  {
   "cell_type": "code",
   "execution_count": 113,
   "metadata": {},
   "outputs": [],
   "source": [
    "# FS = (10, 8)\n",
    "# fig, ax = plt.subplots(figsize=FS)\n",
    "# ax.scatter(df_tsne_fox.x, df_tsne_fox.y, alpha=.2, c='b')\n",
    "# ax.scatter(df_tsne_msnbc.x, df_tsne_msnbc.y, alpha=.2, c='r')\n",
    "\n",
    "# plt.savefig(\"tsne.png\")"
   ]
  },
  {
   "cell_type": "code",
   "execution_count": 114,
   "metadata": {},
   "outputs": [],
   "source": [
    "import time                   # To time processes\n",
    "import warnings               # To suppress warnings\n",
    "\n",
    "import numpy as np            # Data manipulation\n",
    "import pandas as pd           # Dataframe manipulatio \n",
    "import matplotlib.pyplot as plt                   # For graphics\n",
    "\n",
    "from sklearn.preprocessing import StandardScaler  # For scaling dataset\n",
    "from sklearn.cluster import KMeans, AgglomerativeClustering, AffinityPropagation #For clustering\n",
    "from sklearn.mixture import GaussianMixture #For GMM clustering\n",
    "\n",
    "import os                     # For os related operations\n",
    "import sys                    # For data size"
   ]
  },
  {
   "cell_type": "code",
   "execution_count": 115,
   "metadata": {},
   "outputs": [],
   "source": [
    "def doKmeans(X, nclust=5):\n",
    "    model = KMeans(nclust, max_iter=200)\n",
    "    model.fit(X)\n",
    "    clust_labels = model.predict(X)\n",
    "    cent = model.cluster_centers_\n",
    "    return (clust_labels, cent)"
   ]
  },
  {
   "cell_type": "code",
   "execution_count": 116,
   "metadata": {},
   "outputs": [
    {
     "name": "stdout",
     "output_type": "stream",
     "text": [
      "3241\n"
     ]
    },
    {
     "data": {
      "text/html": [
       "<div>\n",
       "<style scoped>\n",
       "    .dataframe tbody tr th:only-of-type {\n",
       "        vertical-align: middle;\n",
       "    }\n",
       "\n",
       "    .dataframe tbody tr th {\n",
       "        vertical-align: top;\n",
       "    }\n",
       "\n",
       "    .dataframe thead th {\n",
       "        text-align: right;\n",
       "    }\n",
       "</style>\n",
       "<table border=\"1\" class=\"dataframe\">\n",
       "  <thead>\n",
       "    <tr style=\"text-align: right;\">\n",
       "      <th></th>\n",
       "      <th>index</th>\n",
       "      <th>date</th>\n",
       "      <th>entities</th>\n",
       "      <th>headline</th>\n",
       "      <th>lemmas</th>\n",
       "      <th>pos</th>\n",
       "      <th>sentiment_polarity</th>\n",
       "      <th>sentiment_subjectivity</th>\n",
       "      <th>source</th>\n",
       "      <th>words</th>\n",
       "      <th>topic</th>\n",
       "      <th>topic_contribution</th>\n",
       "      <th>kmeans</th>\n",
       "    </tr>\n",
       "  </thead>\n",
       "  <tbody>\n",
       "    <tr>\n",
       "      <th>0</th>\n",
       "      <td>0</td>\n",
       "      <td>2020-01-30</td>\n",
       "      <td>[{'text': 'Trump', 'type': 'PERSON', 'start_ch...</td>\n",
       "      <td>Trump cabinet secretary looks for silver linin...</td>\n",
       "      <td>[Trump, cabinet, secretary, look, for, silver,...</td>\n",
       "      <td>[PROPN, NOUN, NOUN, VERB, ADP, NOUN, NOUN, ADP...</td>\n",
       "      <td>0.000000</td>\n",
       "      <td>0.000000</td>\n",
       "      <td>msnbc</td>\n",
       "      <td>[Trump, cabinet, secretary, looks, for, silver...</td>\n",
       "      <td>5</td>\n",
       "      <td>0.1148</td>\n",
       "      <td>2</td>\n",
       "    </tr>\n",
       "    <tr>\n",
       "      <th>1</th>\n",
       "      <td>1</td>\n",
       "      <td>2020-02-01</td>\n",
       "      <td>[]</td>\n",
       "      <td>Inside the coronavirus public health emergency</td>\n",
       "      <td>[inside, the, coronavirus, public, health, eme...</td>\n",
       "      <td>[ADP, DET, NOUN, ADJ, NOUN, NOUN]</td>\n",
       "      <td>0.000000</td>\n",
       "      <td>0.066667</td>\n",
       "      <td>msnbc</td>\n",
       "      <td>[Inside, the, coronavirus, public, health, eme...</td>\n",
       "      <td>6</td>\n",
       "      <td>0.1028</td>\n",
       "      <td>5</td>\n",
       "    </tr>\n",
       "    <tr>\n",
       "      <th>10</th>\n",
       "      <td>10</td>\n",
       "      <td>2020-02-14</td>\n",
       "      <td>[{'text': 'New York City', 'type': 'GPE', 'sta...</td>\n",
       "      <td>New York City prepares for the coronavirus</td>\n",
       "      <td>[New, York, City, prepare, for, the, coronavirus]</td>\n",
       "      <td>[PROPN, PROPN, PROPN, VERB, ADP, DET, NOUN]</td>\n",
       "      <td>0.136364</td>\n",
       "      <td>0.454545</td>\n",
       "      <td>msnbc</td>\n",
       "      <td>[New, York, City, prepares, for, the, coronavi...</td>\n",
       "      <td>2</td>\n",
       "      <td>0.1253</td>\n",
       "      <td>3</td>\n",
       "    </tr>\n",
       "    <tr>\n",
       "      <th>100</th>\n",
       "      <td>100</td>\n",
       "      <td>2020-02-29</td>\n",
       "      <td>[{'text': 'Oregon', 'type': 'GPE', 'start_char...</td>\n",
       "      <td>Oregon officials announce first presumed case ...</td>\n",
       "      <td>[Oregon, official, announce, first, presume, c...</td>\n",
       "      <td>[PROPN, NOUN, VERB, ADV, VERB, NOUN, ADP, NOUN]</td>\n",
       "      <td>0.250000</td>\n",
       "      <td>0.333333</td>\n",
       "      <td>msnbc</td>\n",
       "      <td>[Oregon, officials, announce, first, presumed,...</td>\n",
       "      <td>1</td>\n",
       "      <td>0.1010</td>\n",
       "      <td>1</td>\n",
       "    </tr>\n",
       "    <tr>\n",
       "      <th>1000</th>\n",
       "      <td>321</td>\n",
       "      <td>2020-02-13</td>\n",
       "      <td>[]</td>\n",
       "      <td>Men appear to be more vulnerable to the corona...</td>\n",
       "      <td>[man, appear, to, be, more, vulnerable, to, th...</td>\n",
       "      <td>[NOUN, VERB, PART, AUX, ADV, ADJ, ADP, DET, NO...</td>\n",
       "      <td>0.000000</td>\n",
       "      <td>0.500000</td>\n",
       "      <td>fox</td>\n",
       "      <td>[Men, appear, to, be, more, vulnerable, to, th...</td>\n",
       "      <td>10</td>\n",
       "      <td>0.1402</td>\n",
       "      <td>1</td>\n",
       "    </tr>\n",
       "  </tbody>\n",
       "</table>\n",
       "</div>"
      ],
      "text/plain": [
       "      index       date                                           entities  \\\n",
       "0         0 2020-01-30  [{'text': 'Trump', 'type': 'PERSON', 'start_ch...   \n",
       "1         1 2020-02-01                                                 []   \n",
       "10       10 2020-02-14  [{'text': 'New York City', 'type': 'GPE', 'sta...   \n",
       "100     100 2020-02-29  [{'text': 'Oregon', 'type': 'GPE', 'start_char...   \n",
       "1000    321 2020-02-13                                                 []   \n",
       "\n",
       "                                               headline  \\\n",
       "0     Trump cabinet secretary looks for silver linin...   \n",
       "1        Inside the coronavirus public health emergency   \n",
       "10           New York City prepares for the coronavirus   \n",
       "100   Oregon officials announce first presumed case ...   \n",
       "1000  Men appear to be more vulnerable to the corona...   \n",
       "\n",
       "                                                 lemmas  \\\n",
       "0     [Trump, cabinet, secretary, look, for, silver,...   \n",
       "1     [inside, the, coronavirus, public, health, eme...   \n",
       "10    [New, York, City, prepare, for, the, coronavirus]   \n",
       "100   [Oregon, official, announce, first, presume, c...   \n",
       "1000  [man, appear, to, be, more, vulnerable, to, th...   \n",
       "\n",
       "                                                    pos  sentiment_polarity  \\\n",
       "0     [PROPN, NOUN, NOUN, VERB, ADP, NOUN, NOUN, ADP...            0.000000   \n",
       "1                     [ADP, DET, NOUN, ADJ, NOUN, NOUN]            0.000000   \n",
       "10          [PROPN, PROPN, PROPN, VERB, ADP, DET, NOUN]            0.136364   \n",
       "100     [PROPN, NOUN, VERB, ADV, VERB, NOUN, ADP, NOUN]            0.250000   \n",
       "1000  [NOUN, VERB, PART, AUX, ADV, ADJ, ADP, DET, NO...            0.000000   \n",
       "\n",
       "      sentiment_subjectivity source  \\\n",
       "0                   0.000000  msnbc   \n",
       "1                   0.066667  msnbc   \n",
       "10                  0.454545  msnbc   \n",
       "100                 0.333333  msnbc   \n",
       "1000                0.500000    fox   \n",
       "\n",
       "                                                  words  topic  \\\n",
       "0     [Trump, cabinet, secretary, looks, for, silver...      5   \n",
       "1     [Inside, the, coronavirus, public, health, eme...      6   \n",
       "10    [New, York, City, prepares, for, the, coronavi...      2   \n",
       "100   [Oregon, officials, announce, first, presumed,...      1   \n",
       "1000  [Men, appear, to, be, more, vulnerable, to, th...     10   \n",
       "\n",
       "      topic_contribution  kmeans  \n",
       "0                 0.1148       2  \n",
       "1                 0.1028       5  \n",
       "10                0.1253       3  \n",
       "100               0.1010       1  \n",
       "1000              0.1402       1  "
      ]
     },
     "execution_count": 116,
     "metadata": {},
     "output_type": "execute_result"
    }
   ],
   "source": [
    "# df_kmean = df_label([emb_fox, emb_msnbc])\n",
    "df_kmean = df_label([emb_all])\n",
    "clust_labels, cent = doKmeans(df_kmean.iloc[:,:-1], 7)\n",
    "print(len(clust_labels))\n",
    "kmeans = pd.DataFrame(clust_labels)\n",
    "df.insert((df.shape[1]),'kmeans',kmeans)\n",
    "df.to_json(\"kmeans.json\")\n",
    "\n",
    "df.head()\n"
   ]
  },
  {
   "cell_type": "code",
   "execution_count": 117,
   "metadata": {},
   "outputs": [
    {
     "name": "stdout",
     "output_type": "stream",
     "text": [
      "{0: 0.1323185011709602, 1: 0.16627634660421545, 2: 0.1049960967993755, 3: 0.1522248243559719, 4: 0.16042154566744732, 5: 0.13895394223263074, 6: 0.1448087431693989}\n"
     ]
    }
   ],
   "source": [
    "# fox_dist = {}\n",
    "# msnbc_dist = {}\n",
    "\n",
    "# sum_fox = len(df_kmean.loc[df_kmean[1024]==0])\n",
    "# sum_msnbc = len(df_kmean.loc[df_kmean[1024]==1])\n",
    "\n",
    "# for i in set(df_kmean['kmeans']):\n",
    "#     df_1 = df_kmean.loc[df_kmean['kmeans']==i]\n",
    "#     df_2 = df_kmean.loc[df_kmean['kmeans']==i]\n",
    "#     df_fox = df_1.loc[df_1[1024]==0]\n",
    "#     df_msnbc = df_2.loc[df_2[1024]==1]\n",
    "#     fox_dist[i] = len(df_fox) / sum_fox\n",
    "#     msnbc_dist[i] = len(df_msnbc) / sum_msnbc\n",
    "\n",
    "fox_dist = {}\n",
    "msnbc_dist = {}\n",
    "\n",
    "sum_fox = len(df.loc[df.source=='fox'])\n",
    "sum_msnbc = len(df.loc[df.source=='msnbc'])\n",
    "\n",
    "for i in set(df['kmeans']):\n",
    "    df_1 = df.loc[df['kmeans']==i]\n",
    "    df_2 = df.loc[df['kmeans']==i]\n",
    "    df_fox = df_1.loc[df_1.source=='fox']\n",
    "    df_msnbc = df_2.loc[df_2.source=='msnbc']\n",
    "    fox_dist[i] = len(df_fox) / sum_fox\n",
    "    msnbc_dist[i] = len(df_msnbc) / sum_msnbc\n",
    "print(fox_dist)\n"
   ]
  },
  {
   "cell_type": "code",
   "execution_count": 118,
   "metadata": {},
   "outputs": [
    {
     "data": {
      "image/png": "[encoded data removed]",
      "text/plain": [
       "<Figure size 432x288 with 1 Axes>"
      ]
     },
     "metadata": {
      "needs_background": "light"
     },
     "output_type": "display_data"
    }
   ],
   "source": [
    "import numpy as np\n",
    "import matplotlib.pyplot as plt\n",
    "\n",
    "# create plot\n",
    "fig, ax = plt.subplots()\n",
    "index = np.asarray(list(fox_dist.keys()))\n",
    "bar_width = 0.35\n",
    "opacity = 0.6\n",
    "\n",
    "\n",
    "rects1 = plt.bar(index, np.asarray(list(fox_dist.values())), \n",
    "                 bar_width, alpha=opacity, color='g', label='FOX news')\n",
    "rects2 = plt.bar(index + bar_width, np.asarray(list(msnbc_dist.values())), \n",
    "                 bar_width, alpha=opacity, color='b', label='MSNBC news')\n",
    "\n",
    "plt.xlabel('Cluster')\n",
    "plt.ylabel('Percentage')\n",
    "plt.title('Percentage by K-means cluster')\n",
    "plt.xticks(index + bar_width, set(list(fox_dist.keys())))\n",
    "plt.ylim(top=0.5)\n",
    "plt.legend()\n",
    "\n",
    "\n",
    "# plt.tight_layout()\n",
    "plt.savefig(\"k=5.png\")"
   ]
  },
  {
   "cell_type": "code",
   "execution_count": 119,
   "metadata": {},
   "outputs": [
    {
     "data": {
      "text/plain": [
       "numpy.int64"
      ]
     },
     "execution_count": 119,
     "metadata": {},
     "output_type": "execute_result"
    }
   ],
   "source": [
    "# from itertools import permutations \n",
    "# perm = permutations([0, 1, 2, 3, 4, 5, 6, 7, 8, 9, 10], 3) \n",
    "type(df.topic[0])"
   ]
  },
  {
   "cell_type": "code",
   "execution_count": 141,
   "metadata": {},
   "outputs": [
    {
     "name": "stdout",
     "output_type": "stream",
     "text": [
      "[0.1042471  0.18918919 0.11583012 0.14285714 0.17374517 0.14671815\n",
      " 0.12741313]\n",
      "[0.15853659 0.08536585 0.18292683 0.14634146 0.08536585 0.14634146\n",
      " 0.19512195]\n",
      "[0.1042471  0.29343629 0.40926641 0.55212355 0.72586873 0.87258687\n",
      " 1.        ]\n",
      "[0.15853659 0.24390244 0.42682927 0.57317073 0.65853659 0.80487805\n",
      " 1.        ]\n",
      "KstestResult(statistic=0.5, pvalue=0.03839174153626465)\n"
     ]
    },
    {
     "data": {
      "image/png": "[encoded data removed]",
      "text/plain": [
       "<Figure size 432x288 with 1 Axes>"
      ]
     },
     "metadata": {
      "needs_background": "light"
     },
     "output_type": "display_data"
    }
   ],
   "source": [
    "from scipy import stats\n",
    "fig, ax = plt.subplots()\n",
    "\n",
    "bar_width = 0.35\n",
    "opacity = 0.6\n",
    "\n",
    "g = 3\n",
    "\n",
    "sub_df = df.loc[df.topic==g]\n",
    "fox_dist = {}\n",
    "msnbc_dist = {}\n",
    "\n",
    "sum_fox = len(sub_df.loc[sub_df.source=='fox'])\n",
    "sum_msnbc = len(sub_df.loc[sub_df.source=='msnbc'])\n",
    "\n",
    "for i in set(sub_df['kmeans']):\n",
    "    df_1 = sub_df.loc[sub_df['kmeans']==i]\n",
    "    df_2 = sub_df.loc[sub_df['kmeans']==i]\n",
    "    df_fox = df_1.loc[df_1.source=='fox']\n",
    "    df_msnbc = df_2.loc[df_2.source=='msnbc']\n",
    "    fox_dist[i] = len(df_fox) / sum_fox\n",
    "    msnbc_dist[i] = len(df_msnbc) / sum_msnbc\n",
    "\n",
    "index = np.asarray(list(fox_dist.keys()))\n",
    "fox_dist_lis = np.array([v for k, v in fox_dist.items()])\n",
    "msnbc_dist_lis = np.array([v for k, v in msnbc_dist.items()])\n",
    "f = np.cumsum(fox_dist_lis)\n",
    "m = np.cumsum(msnbc_dist_lis)\n",
    "diff2 = np.abs(f - m)\n",
    "\n",
    "print(fox_dist_lis)\n",
    "print(msnbc_dist_lis)\n",
    "print(f)\n",
    "print(m)\n",
    "\n",
    "print(stats.kstest(diff2, 'norm'))\n",
    "\n",
    "rects1 = plt.bar(index, np.asarray(list(fox_dist.values())), \n",
    "             bar_width, alpha=opacity, color='g', label='FOX news')\n",
    "rects2 = plt.bar(index + bar_width, np.asarray(list(msnbc_dist.values())), \n",
    "             bar_width, alpha=opacity, color='b', label='MSNBC news')\n",
    "\n",
    "#     axs[g].plot(x, y)\n",
    "# axs[g].set_title(f'group{g}')\n",
    "plt.xlabel('Cluster')\n",
    "plt.ylabel('Percentage')\n",
    "plt.title(f'Group {g} LDA Cluster Distribution (Kmeans)')\n",
    "plt.xticks(index + bar_width, set(list(fox_dist.keys())))\n",
    "plt.ylim(top=0.4)\n",
    "plt.legend()\n",
    "\n",
    "\n",
    "# plt.tight_layout()\n",
    "plt.savefig(f\"LDA_{g}.png\")"
   ]
  },
  {
   "cell_type": "code",
   "execution_count": null,
   "metadata": {},
   "outputs": [],
   "source": []
  }
 ],
 "metadata": {
  "kernelspec": {
   "display_name": "Python 3",
   "language": "python",
   "name": "python3"
  },
  "language_info": {
   "codemirror_mode": {
    "name": "ipython",
    "version": 3
   },
   "file_extension": ".py",
   "mimetype": "text/x-python",
   "name": "python",
   "nbconvert_exporter": "python",
   "pygments_lexer": "ipython3",
   "version": "3.6.9"
  }
 },
 "nbformat": 4,
 "nbformat_minor": 4
}
